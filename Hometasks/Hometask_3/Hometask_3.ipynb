{
 "cells": [
  {
   "cell_type": "markdown",
   "metadata": {},
   "source": [
    "# Домашнее задание 3\n",
    "### Линейная и логистическая регрессия\n",
    "\n",
    "Оформление дз:\n",
    "Присылайте выполненное на почту `mlphystech@gmail.com` файлы .pdf и .ipynb или ссылку на свой гитхаб.\n",
    "\n",
    "**Дедлайн: 11 апреля 23:59**\n",
    "\n",
    "*Зуева Надежда*\n",
    "\n",
    "ФИВТ МФТИ\n",
    "\n",
    "Это задание будет посвящено линейной и логистической регрессии.\n",
    "Мы надеемся, что вы уже знаете, что такое `kaggle`, так как сегодня нам предстоит поработать с самым *классическим* датасетом машинного обучения, а именно $-$ с Титаником!\n",
    "\n",
    "\n",
    "Цель соревнования $-$ предсказать, кто из пассажиров выживет, а кто, увы, нет.\n",
    "\n",
    "https://www.kaggle.com/c/titanic"
   ]
  },
  {
   "cell_type": "markdown",
   "metadata": {},
   "source": [
    "## Теоретические вопросы\n",
    "### 2 балла (по 0.5 за каждый верный ответ)\n",
    "1. Что такое линейные модели классификации и регрессии? В чем их основные свойства? Где хорошо работают?\n",
    "2. Что такое регуляризация и как она используется? \n",
    "3. Что такое MSE? Приведите пример.\n",
    "4. Что такое градиентный спуск? Опишите базовый алгоритм работы.\n",
    "\n",
    "P.S. просьба не копипастить из Википедии. Это все легко вычисляется и будет караться :)"
   ]
  },
  {
   "cell_type": "markdown",
   "metadata": {},
   "source": [
    "## Задание 1 (4 балла)\n",
    "Скачайте файлы `train.csv` и `test.csv`.\n",
    "\n",
    "Выведите первые 10 строк из `train.csv`"
   ]
  },
  {
   "cell_type": "code",
   "execution_count": 1,
   "metadata": {},
   "outputs": [
    {
     "name": "stderr",
     "output_type": "stream",
     "text": [
      "C:\\Anaconda3\\lib\\site-packages\\sklearn\\cross_validation.py:41: DeprecationWarning: This module was deprecated in version 0.18 in favor of the model_selection module into which all the refactored classes and functions are moved. Also note that the interface of the new CV iterators are different from that of this module. This module will be removed in 0.20.\n",
      "  \"This module will be removed in 0.20.\", DeprecationWarning)\n"
     ]
    }
   ],
   "source": [
    "import pandas\n",
    "from copy import deepcopy\n",
    "import numpy as np\n",
    "import pandas as pd\n",
    "from sklearn import preprocessing\n",
    "from sklearn.cross_validation import KFold"
   ]
  },
  {
   "cell_type": "code",
   "execution_count": 2,
   "metadata": {},
   "outputs": [
    {
     "data": {
      "text/html": [
       "<div>\n",
       "<style scoped>\n",
       "    .dataframe tbody tr th:only-of-type {\n",
       "        vertical-align: middle;\n",
       "    }\n",
       "\n",
       "    .dataframe tbody tr th {\n",
       "        vertical-align: top;\n",
       "    }\n",
       "\n",
       "    .dataframe thead th {\n",
       "        text-align: right;\n",
       "    }\n",
       "</style>\n",
       "<table border=\"1\" class=\"dataframe\">\n",
       "  <thead>\n",
       "    <tr style=\"text-align: right;\">\n",
       "      <th></th>\n",
       "      <th>PassengerId</th>\n",
       "      <th>Survived</th>\n",
       "      <th>Pclass</th>\n",
       "      <th>Name</th>\n",
       "      <th>Sex</th>\n",
       "      <th>Age</th>\n",
       "      <th>SibSp</th>\n",
       "      <th>Parch</th>\n",
       "      <th>Ticket</th>\n",
       "      <th>Fare</th>\n",
       "      <th>Cabin</th>\n",
       "      <th>Embarked</th>\n",
       "    </tr>\n",
       "  </thead>\n",
       "  <tbody>\n",
       "    <tr>\n",
       "      <th>0</th>\n",
       "      <td>1</td>\n",
       "      <td>0</td>\n",
       "      <td>3</td>\n",
       "      <td>Braund, Mr. Owen Harris</td>\n",
       "      <td>male</td>\n",
       "      <td>22.0</td>\n",
       "      <td>1</td>\n",
       "      <td>0</td>\n",
       "      <td>A/5 21171</td>\n",
       "      <td>7.2500</td>\n",
       "      <td>NaN</td>\n",
       "      <td>S</td>\n",
       "    </tr>\n",
       "    <tr>\n",
       "      <th>1</th>\n",
       "      <td>2</td>\n",
       "      <td>1</td>\n",
       "      <td>1</td>\n",
       "      <td>Cumings, Mrs. John Bradley (Florence Briggs Th...</td>\n",
       "      <td>female</td>\n",
       "      <td>38.0</td>\n",
       "      <td>1</td>\n",
       "      <td>0</td>\n",
       "      <td>PC 17599</td>\n",
       "      <td>71.2833</td>\n",
       "      <td>C85</td>\n",
       "      <td>C</td>\n",
       "    </tr>\n",
       "    <tr>\n",
       "      <th>2</th>\n",
       "      <td>3</td>\n",
       "      <td>1</td>\n",
       "      <td>3</td>\n",
       "      <td>Heikkinen, Miss. Laina</td>\n",
       "      <td>female</td>\n",
       "      <td>26.0</td>\n",
       "      <td>0</td>\n",
       "      <td>0</td>\n",
       "      <td>STON/O2. 3101282</td>\n",
       "      <td>7.9250</td>\n",
       "      <td>NaN</td>\n",
       "      <td>S</td>\n",
       "    </tr>\n",
       "    <tr>\n",
       "      <th>3</th>\n",
       "      <td>4</td>\n",
       "      <td>1</td>\n",
       "      <td>1</td>\n",
       "      <td>Futrelle, Mrs. Jacques Heath (Lily May Peel)</td>\n",
       "      <td>female</td>\n",
       "      <td>35.0</td>\n",
       "      <td>1</td>\n",
       "      <td>0</td>\n",
       "      <td>113803</td>\n",
       "      <td>53.1000</td>\n",
       "      <td>C123</td>\n",
       "      <td>S</td>\n",
       "    </tr>\n",
       "    <tr>\n",
       "      <th>4</th>\n",
       "      <td>5</td>\n",
       "      <td>0</td>\n",
       "      <td>3</td>\n",
       "      <td>Allen, Mr. William Henry</td>\n",
       "      <td>male</td>\n",
       "      <td>35.0</td>\n",
       "      <td>0</td>\n",
       "      <td>0</td>\n",
       "      <td>373450</td>\n",
       "      <td>8.0500</td>\n",
       "      <td>NaN</td>\n",
       "      <td>S</td>\n",
       "    </tr>\n",
       "    <tr>\n",
       "      <th>5</th>\n",
       "      <td>6</td>\n",
       "      <td>0</td>\n",
       "      <td>3</td>\n",
       "      <td>Moran, Mr. James</td>\n",
       "      <td>male</td>\n",
       "      <td>NaN</td>\n",
       "      <td>0</td>\n",
       "      <td>0</td>\n",
       "      <td>330877</td>\n",
       "      <td>8.4583</td>\n",
       "      <td>NaN</td>\n",
       "      <td>Q</td>\n",
       "    </tr>\n",
       "    <tr>\n",
       "      <th>6</th>\n",
       "      <td>7</td>\n",
       "      <td>0</td>\n",
       "      <td>1</td>\n",
       "      <td>McCarthy, Mr. Timothy J</td>\n",
       "      <td>male</td>\n",
       "      <td>54.0</td>\n",
       "      <td>0</td>\n",
       "      <td>0</td>\n",
       "      <td>17463</td>\n",
       "      <td>51.8625</td>\n",
       "      <td>E46</td>\n",
       "      <td>S</td>\n",
       "    </tr>\n",
       "  </tbody>\n",
       "</table>\n",
       "</div>"
      ],
      "text/plain": [
       "   PassengerId  Survived  Pclass  \\\n",
       "0            1         0       3   \n",
       "1            2         1       1   \n",
       "2            3         1       3   \n",
       "3            4         1       1   \n",
       "4            5         0       3   \n",
       "5            6         0       3   \n",
       "6            7         0       1   \n",
       "\n",
       "                                                Name     Sex   Age  SibSp  \\\n",
       "0                            Braund, Mr. Owen Harris    male  22.0      1   \n",
       "1  Cumings, Mrs. John Bradley (Florence Briggs Th...  female  38.0      1   \n",
       "2                             Heikkinen, Miss. Laina  female  26.0      0   \n",
       "3       Futrelle, Mrs. Jacques Heath (Lily May Peel)  female  35.0      1   \n",
       "4                           Allen, Mr. William Henry    male  35.0      0   \n",
       "5                                   Moran, Mr. James    male   NaN      0   \n",
       "6                            McCarthy, Mr. Timothy J    male  54.0      0   \n",
       "\n",
       "   Parch            Ticket     Fare Cabin Embarked  \n",
       "0      0         A/5 21171   7.2500   NaN        S  \n",
       "1      0          PC 17599  71.2833   C85        C  \n",
       "2      0  STON/O2. 3101282   7.9250   NaN        S  \n",
       "3      0            113803  53.1000  C123        S  \n",
       "4      0            373450   8.0500   NaN        S  \n",
       "5      0            330877   8.4583   NaN        Q  \n",
       "6      0             17463  51.8625   E46        S  "
      ]
     },
     "execution_count": 2,
     "metadata": {},
     "output_type": "execute_result"
    }
   ],
   "source": [
    "#считайте данные из файла train.csv\n",
    "data = pd.read_csv(\"train.csv\")\n",
    "#выведите первые 10 строк из data\n",
    "data.head(7)"
   ]
  },
  {
   "cell_type": "markdown",
   "metadata": {},
   "source": [
    "Разобьем выборку на `X` и `y`, где для`y` будем строить предсказания"
   ]
  },
  {
   "cell_type": "code",
   "execution_count": 3,
   "metadata": {},
   "outputs": [],
   "source": [
    "y = pd.Series(data['Survived'])\n",
    "X = deepcopy(data).drop([\"Survived\"], axis=1)"
   ]
  },
  {
   "cell_type": "markdown",
   "metadata": {},
   "source": [
    "Как мы видим, не все данные *полны*. Например, это видно в столбце `Age`. \n",
    "В качестве простейшего решения мы предлагаем заменить пропущенные значения на медианные (функция `numpy.median`)\n",
    "Вы можете воспользоваться нашим методом или произвести собственный анализ и заменить значения более умным способом (profit: бонусные баллы)."
   ]
  },
  {
   "cell_type": "markdown",
   "metadata": {},
   "source": [
    "Заменим отсутствующие значения возраста не просто на медиану тренировочного набора, а на медиану набора всех пассажиров (train + test)"
   ]
  },
  {
   "cell_type": "code",
   "execution_count": 4,
   "metadata": {},
   "outputs": [
    {
     "name": "stdout",
     "output_type": "stream",
     "text": [
      "{'Survived'}\n"
     ]
    }
   ],
   "source": [
    "data_test = pd.read_csv(\"test.csv\")\n",
    "print(set(data.keys()) - set(data_test.keys()))"
   ]
  },
  {
   "cell_type": "code",
   "execution_count": 5,
   "metadata": {},
   "outputs": [
    {
     "name": "stdout",
     "output_type": "stream",
     "text": [
      "(891, 12) (418, 11) (1309, 11)\n"
     ]
    }
   ],
   "source": [
    "data_all = pd.concat([data.drop([\"Survived\"], axis=1), data_test])\n",
    "print(data.shape, data_test.shape, data_all.shape)"
   ]
  },
  {
   "cell_type": "code",
   "execution_count": 6,
   "metadata": {},
   "outputs": [
    {
     "data": {
      "text/html": [
       "<div>\n",
       "<style scoped>\n",
       "    .dataframe tbody tr th:only-of-type {\n",
       "        vertical-align: middle;\n",
       "    }\n",
       "\n",
       "    .dataframe tbody tr th {\n",
       "        vertical-align: top;\n",
       "    }\n",
       "\n",
       "    .dataframe thead th {\n",
       "        text-align: right;\n",
       "    }\n",
       "</style>\n",
       "<table border=\"1\" class=\"dataframe\">\n",
       "  <thead>\n",
       "    <tr style=\"text-align: right;\">\n",
       "      <th></th>\n",
       "      <th>PassengerId</th>\n",
       "      <th>Pclass</th>\n",
       "      <th>Name</th>\n",
       "      <th>Sex</th>\n",
       "      <th>Age</th>\n",
       "      <th>SibSp</th>\n",
       "      <th>Parch</th>\n",
       "      <th>Ticket</th>\n",
       "      <th>Fare</th>\n",
       "      <th>Cabin</th>\n",
       "      <th>Embarked</th>\n",
       "    </tr>\n",
       "  </thead>\n",
       "  <tbody>\n",
       "    <tr>\n",
       "      <th>0</th>\n",
       "      <td>1</td>\n",
       "      <td>3</td>\n",
       "      <td>Braund, Mr. Owen Harris</td>\n",
       "      <td>male</td>\n",
       "      <td>22.0</td>\n",
       "      <td>1</td>\n",
       "      <td>0</td>\n",
       "      <td>A/5 21171</td>\n",
       "      <td>7.2500</td>\n",
       "      <td>NaN</td>\n",
       "      <td>S</td>\n",
       "    </tr>\n",
       "    <tr>\n",
       "      <th>1</th>\n",
       "      <td>2</td>\n",
       "      <td>1</td>\n",
       "      <td>Cumings, Mrs. John Bradley (Florence Briggs Th...</td>\n",
       "      <td>female</td>\n",
       "      <td>38.0</td>\n",
       "      <td>1</td>\n",
       "      <td>0</td>\n",
       "      <td>PC 17599</td>\n",
       "      <td>71.2833</td>\n",
       "      <td>C85</td>\n",
       "      <td>C</td>\n",
       "    </tr>\n",
       "    <tr>\n",
       "      <th>2</th>\n",
       "      <td>3</td>\n",
       "      <td>3</td>\n",
       "      <td>Heikkinen, Miss. Laina</td>\n",
       "      <td>female</td>\n",
       "      <td>26.0</td>\n",
       "      <td>0</td>\n",
       "      <td>0</td>\n",
       "      <td>STON/O2. 3101282</td>\n",
       "      <td>7.9250</td>\n",
       "      <td>NaN</td>\n",
       "      <td>S</td>\n",
       "    </tr>\n",
       "    <tr>\n",
       "      <th>3</th>\n",
       "      <td>4</td>\n",
       "      <td>1</td>\n",
       "      <td>Futrelle, Mrs. Jacques Heath (Lily May Peel)</td>\n",
       "      <td>female</td>\n",
       "      <td>35.0</td>\n",
       "      <td>1</td>\n",
       "      <td>0</td>\n",
       "      <td>113803</td>\n",
       "      <td>53.1000</td>\n",
       "      <td>C123</td>\n",
       "      <td>S</td>\n",
       "    </tr>\n",
       "    <tr>\n",
       "      <th>4</th>\n",
       "      <td>5</td>\n",
       "      <td>3</td>\n",
       "      <td>Allen, Mr. William Henry</td>\n",
       "      <td>male</td>\n",
       "      <td>35.0</td>\n",
       "      <td>0</td>\n",
       "      <td>0</td>\n",
       "      <td>373450</td>\n",
       "      <td>8.0500</td>\n",
       "      <td>NaN</td>\n",
       "      <td>S</td>\n",
       "    </tr>\n",
       "    <tr>\n",
       "      <th>5</th>\n",
       "      <td>6</td>\n",
       "      <td>3</td>\n",
       "      <td>Moran, Mr. James</td>\n",
       "      <td>male</td>\n",
       "      <td>28.0</td>\n",
       "      <td>0</td>\n",
       "      <td>0</td>\n",
       "      <td>330877</td>\n",
       "      <td>8.4583</td>\n",
       "      <td>NaN</td>\n",
       "      <td>Q</td>\n",
       "    </tr>\n",
       "    <tr>\n",
       "      <th>6</th>\n",
       "      <td>7</td>\n",
       "      <td>1</td>\n",
       "      <td>McCarthy, Mr. Timothy J</td>\n",
       "      <td>male</td>\n",
       "      <td>54.0</td>\n",
       "      <td>0</td>\n",
       "      <td>0</td>\n",
       "      <td>17463</td>\n",
       "      <td>51.8625</td>\n",
       "      <td>E46</td>\n",
       "      <td>S</td>\n",
       "    </tr>\n",
       "  </tbody>\n",
       "</table>\n",
       "</div>"
      ],
      "text/plain": [
       "   PassengerId  Pclass                                               Name  \\\n",
       "0            1       3                            Braund, Mr. Owen Harris   \n",
       "1            2       1  Cumings, Mrs. John Bradley (Florence Briggs Th...   \n",
       "2            3       3                             Heikkinen, Miss. Laina   \n",
       "3            4       1       Futrelle, Mrs. Jacques Heath (Lily May Peel)   \n",
       "4            5       3                           Allen, Mr. William Henry   \n",
       "5            6       3                                   Moran, Mr. James   \n",
       "6            7       1                            McCarthy, Mr. Timothy J   \n",
       "\n",
       "      Sex   Age  SibSp  Parch            Ticket     Fare Cabin Embarked  \n",
       "0    male  22.0      1      0         A/5 21171   7.2500   NaN        S  \n",
       "1  female  38.0      1      0          PC 17599  71.2833   C85        C  \n",
       "2  female  26.0      0      0  STON/O2. 3101282   7.9250   NaN        S  \n",
       "3  female  35.0      1      0            113803  53.1000  C123        S  \n",
       "4    male  35.0      0      0            373450   8.0500   NaN        S  \n",
       "5    male  28.0      0      0            330877   8.4583   NaN        Q  \n",
       "6    male  54.0      0      0             17463  51.8625   E46        S  "
      ]
     },
     "execution_count": 6,
     "metadata": {},
     "output_type": "execute_result"
    }
   ],
   "source": [
    "# Replace all the missing ages in the data with the median age\n",
    "X[\"Age\"] = X[\"Age\"].fillna(data_all[\"Age\"].median())\n",
    "X.head(7)"
   ]
  },
  {
   "cell_type": "markdown",
   "metadata": {},
   "source": [
    "Теперь займемся **оцифровкой признаков**\n",
    "\n",
    "Кстати, напомните, а зачем нам это нужно? :)\n",
    "\n",
    "$*$ ваш ответ $*$\n",
    "\n",
    "Какой параметр здесь бинарный? Оцифруйте его при помощи нулей и единиц."
   ]
  },
  {
   "cell_type": "code",
   "execution_count": 7,
   "metadata": {},
   "outputs": [
    {
     "data": {
      "text/html": [
       "<div>\n",
       "<style scoped>\n",
       "    .dataframe tbody tr th:only-of-type {\n",
       "        vertical-align: middle;\n",
       "    }\n",
       "\n",
       "    .dataframe tbody tr th {\n",
       "        vertical-align: top;\n",
       "    }\n",
       "\n",
       "    .dataframe thead th {\n",
       "        text-align: right;\n",
       "    }\n",
       "</style>\n",
       "<table border=\"1\" class=\"dataframe\">\n",
       "  <thead>\n",
       "    <tr style=\"text-align: right;\">\n",
       "      <th></th>\n",
       "      <th>PassengerId</th>\n",
       "      <th>Pclass</th>\n",
       "      <th>Name</th>\n",
       "      <th>Sex</th>\n",
       "      <th>Age</th>\n",
       "      <th>SibSp</th>\n",
       "      <th>Parch</th>\n",
       "      <th>Ticket</th>\n",
       "      <th>Fare</th>\n",
       "      <th>Cabin</th>\n",
       "      <th>Embarked</th>\n",
       "    </tr>\n",
       "  </thead>\n",
       "  <tbody>\n",
       "    <tr>\n",
       "      <th>0</th>\n",
       "      <td>1</td>\n",
       "      <td>3</td>\n",
       "      <td>Braund, Mr. Owen Harris</td>\n",
       "      <td>1</td>\n",
       "      <td>22.0</td>\n",
       "      <td>1</td>\n",
       "      <td>0</td>\n",
       "      <td>A/5 21171</td>\n",
       "      <td>7.2500</td>\n",
       "      <td>NaN</td>\n",
       "      <td>S</td>\n",
       "    </tr>\n",
       "    <tr>\n",
       "      <th>1</th>\n",
       "      <td>2</td>\n",
       "      <td>1</td>\n",
       "      <td>Cumings, Mrs. John Bradley (Florence Briggs Th...</td>\n",
       "      <td>0</td>\n",
       "      <td>38.0</td>\n",
       "      <td>1</td>\n",
       "      <td>0</td>\n",
       "      <td>PC 17599</td>\n",
       "      <td>71.2833</td>\n",
       "      <td>C85</td>\n",
       "      <td>C</td>\n",
       "    </tr>\n",
       "    <tr>\n",
       "      <th>2</th>\n",
       "      <td>3</td>\n",
       "      <td>3</td>\n",
       "      <td>Heikkinen, Miss. Laina</td>\n",
       "      <td>0</td>\n",
       "      <td>26.0</td>\n",
       "      <td>0</td>\n",
       "      <td>0</td>\n",
       "      <td>STON/O2. 3101282</td>\n",
       "      <td>7.9250</td>\n",
       "      <td>NaN</td>\n",
       "      <td>S</td>\n",
       "    </tr>\n",
       "    <tr>\n",
       "      <th>3</th>\n",
       "      <td>4</td>\n",
       "      <td>1</td>\n",
       "      <td>Futrelle, Mrs. Jacques Heath (Lily May Peel)</td>\n",
       "      <td>0</td>\n",
       "      <td>35.0</td>\n",
       "      <td>1</td>\n",
       "      <td>0</td>\n",
       "      <td>113803</td>\n",
       "      <td>53.1000</td>\n",
       "      <td>C123</td>\n",
       "      <td>S</td>\n",
       "    </tr>\n",
       "    <tr>\n",
       "      <th>4</th>\n",
       "      <td>5</td>\n",
       "      <td>3</td>\n",
       "      <td>Allen, Mr. William Henry</td>\n",
       "      <td>1</td>\n",
       "      <td>35.0</td>\n",
       "      <td>0</td>\n",
       "      <td>0</td>\n",
       "      <td>373450</td>\n",
       "      <td>8.0500</td>\n",
       "      <td>NaN</td>\n",
       "      <td>S</td>\n",
       "    </tr>\n",
       "    <tr>\n",
       "      <th>5</th>\n",
       "      <td>6</td>\n",
       "      <td>3</td>\n",
       "      <td>Moran, Mr. James</td>\n",
       "      <td>1</td>\n",
       "      <td>28.0</td>\n",
       "      <td>0</td>\n",
       "      <td>0</td>\n",
       "      <td>330877</td>\n",
       "      <td>8.4583</td>\n",
       "      <td>NaN</td>\n",
       "      <td>Q</td>\n",
       "    </tr>\n",
       "    <tr>\n",
       "      <th>6</th>\n",
       "      <td>7</td>\n",
       "      <td>1</td>\n",
       "      <td>McCarthy, Mr. Timothy J</td>\n",
       "      <td>1</td>\n",
       "      <td>54.0</td>\n",
       "      <td>0</td>\n",
       "      <td>0</td>\n",
       "      <td>17463</td>\n",
       "      <td>51.8625</td>\n",
       "      <td>E46</td>\n",
       "      <td>S</td>\n",
       "    </tr>\n",
       "  </tbody>\n",
       "</table>\n",
       "</div>"
      ],
      "text/plain": [
       "   PassengerId  Pclass                                               Name  \\\n",
       "0            1       3                            Braund, Mr. Owen Harris   \n",
       "1            2       1  Cumings, Mrs. John Bradley (Florence Briggs Th...   \n",
       "2            3       3                             Heikkinen, Miss. Laina   \n",
       "3            4       1       Futrelle, Mrs. Jacques Heath (Lily May Peel)   \n",
       "4            5       3                           Allen, Mr. William Henry   \n",
       "5            6       3                                   Moran, Mr. James   \n",
       "6            7       1                            McCarthy, Mr. Timothy J   \n",
       "\n",
       "   Sex   Age  SibSp  Parch            Ticket     Fare Cabin Embarked  \n",
       "0    1  22.0      1      0         A/5 21171   7.2500   NaN        S  \n",
       "1    0  38.0      1      0          PC 17599  71.2833   C85        C  \n",
       "2    0  26.0      0      0  STON/O2. 3101282   7.9250   NaN        S  \n",
       "3    0  35.0      1      0            113803  53.1000  C123        S  \n",
       "4    1  35.0      0      0            373450   8.0500   NaN        S  \n",
       "5    1  28.0      0      0            330877   8.4583   NaN        Q  \n",
       "6    1  54.0      0      0             17463  51.8625   E46        S  "
      ]
     },
     "execution_count": 7,
     "metadata": {},
     "output_type": "execute_result"
    }
   ],
   "source": [
    "X.loc[X[\"Sex\"] == \"male\", \"Sex\"] = 1 #тут что-то должно быть\n",
    "X.loc[X[\"Sex\"] == \"female\", \"Sex\"] = 0 #тут что-то должно быть\n",
    "X.head(7)"
   ]
  },
  {
   "cell_type": "markdown",
   "metadata": {},
   "source": [
    "Выведите описание нашего датасета после изменений с помощью функции `describe`.\n",
    "Сколько процентов пассажиров выжило? Каков был средний возраст всех пассажиров?"
   ]
  },
  {
   "cell_type": "code",
   "execution_count": 8,
   "metadata": {
    "scrolled": false
   },
   "outputs": [
    {
     "name": "stdout",
     "output_type": "stream",
     "text": [
      "       PassengerId      Pclass         Sex         Age       SibSp  \\\n",
      "count   891.000000  891.000000  891.000000  891.000000  891.000000   \n",
      "mean    446.000000    2.308642    0.647587   29.361582    0.523008   \n",
      "std     257.353842    0.836071    0.477990   13.019697    1.102743   \n",
      "min       1.000000    1.000000    0.000000    0.420000    0.000000   \n",
      "25%     223.500000    2.000000    0.000000   22.000000    0.000000   \n",
      "50%     446.000000    3.000000    1.000000   28.000000    0.000000   \n",
      "75%     668.500000    3.000000    1.000000   35.000000    1.000000   \n",
      "max     891.000000    3.000000    1.000000   80.000000    8.000000   \n",
      "\n",
      "            Parch        Fare  \n",
      "count  891.000000  891.000000  \n",
      "mean     0.381594   32.204208  \n",
      "std      0.806057   49.693429  \n",
      "min      0.000000    0.000000  \n",
      "25%      0.000000    7.910400  \n",
      "50%      0.000000   14.454200  \n",
      "75%      0.000000   31.000000  \n",
      "max      6.000000  512.329200  \n"
     ]
    }
   ],
   "source": [
    "print (X.describe())"
   ]
  },
  {
   "cell_type": "markdown",
   "metadata": {},
   "source": [
    "Продолжим заполнять пропуски. Рассмотрим графу пунктов отправления `Embarked` \n",
    "\n",
    "Там есть типы данных:\n",
    "\n",
    "C = Cherbourg, Q = Queenstown, S = Southampton, а также `nan`"
   ]
  },
  {
   "cell_type": "code",
   "execution_count": 9,
   "metadata": {},
   "outputs": [
    {
     "name": "stdout",
     "output_type": "stream",
     "text": [
      "['S' 'C' 'Q' nan]\n"
     ]
    }
   ],
   "source": [
    "print(X[\"Embarked\"].unique())"
   ]
  },
  {
   "cell_type": "code",
   "execution_count": 10,
   "metadata": {},
   "outputs": [
    {
     "name": "stdout",
     "output_type": "stream",
     "text": [
      "Counter({'S': 644, 'C': 168, 'Q': 77, nan: 2})\n"
     ]
    }
   ],
   "source": [
    "import collections\n",
    "print(collections.Counter(X['Embarked']))"
   ]
  },
  {
   "cell_type": "markdown",
   "metadata": {},
   "source": [
    "С учетом последней ячейки заполните пропущенные значения по своему усмотрению. Объясните свой выбор, затем оцифруйте признак `Embarked` \n",
    "\n",
    "Например, заменив все на {0,1,2} или {12,42,10}, как хотите :)"
   ]
  },
  {
   "cell_type": "code",
   "execution_count": 11,
   "metadata": {},
   "outputs": [
    {
     "name": "stdout",
     "output_type": "stream",
     "text": [
      "Counter({'S': 646, 'C': 168, 'Q': 77})\n"
     ]
    }
   ],
   "source": [
    "X[\"Embarked\"] = X[\"Embarked\"].fillna(\"S\")\n",
    "print(collections.Counter(X[\"Embarked\"]))"
   ]
  },
  {
   "cell_type": "code",
   "execution_count": 12,
   "metadata": {},
   "outputs": [
    {
     "name": "stdout",
     "output_type": "stream",
     "text": [
      "['C' 'Q' 'S']\n"
     ]
    },
    {
     "data": {
      "text/html": [
       "<div>\n",
       "<style scoped>\n",
       "    .dataframe tbody tr th:only-of-type {\n",
       "        vertical-align: middle;\n",
       "    }\n",
       "\n",
       "    .dataframe tbody tr th {\n",
       "        vertical-align: top;\n",
       "    }\n",
       "\n",
       "    .dataframe thead th {\n",
       "        text-align: right;\n",
       "    }\n",
       "</style>\n",
       "<table border=\"1\" class=\"dataframe\">\n",
       "  <thead>\n",
       "    <tr style=\"text-align: right;\">\n",
       "      <th></th>\n",
       "      <th>PassengerId</th>\n",
       "      <th>Pclass</th>\n",
       "      <th>Name</th>\n",
       "      <th>Sex</th>\n",
       "      <th>Age</th>\n",
       "      <th>SibSp</th>\n",
       "      <th>Parch</th>\n",
       "      <th>Ticket</th>\n",
       "      <th>Fare</th>\n",
       "      <th>Cabin</th>\n",
       "      <th>Embarked</th>\n",
       "    </tr>\n",
       "  </thead>\n",
       "  <tbody>\n",
       "    <tr>\n",
       "      <th>0</th>\n",
       "      <td>1</td>\n",
       "      <td>3</td>\n",
       "      <td>Braund, Mr. Owen Harris</td>\n",
       "      <td>1</td>\n",
       "      <td>22.0</td>\n",
       "      <td>1</td>\n",
       "      <td>0</td>\n",
       "      <td>A/5 21171</td>\n",
       "      <td>7.2500</td>\n",
       "      <td>NaN</td>\n",
       "      <td>2</td>\n",
       "    </tr>\n",
       "    <tr>\n",
       "      <th>1</th>\n",
       "      <td>2</td>\n",
       "      <td>1</td>\n",
       "      <td>Cumings, Mrs. John Bradley (Florence Briggs Th...</td>\n",
       "      <td>0</td>\n",
       "      <td>38.0</td>\n",
       "      <td>1</td>\n",
       "      <td>0</td>\n",
       "      <td>PC 17599</td>\n",
       "      <td>71.2833</td>\n",
       "      <td>C85</td>\n",
       "      <td>0</td>\n",
       "    </tr>\n",
       "    <tr>\n",
       "      <th>2</th>\n",
       "      <td>3</td>\n",
       "      <td>3</td>\n",
       "      <td>Heikkinen, Miss. Laina</td>\n",
       "      <td>0</td>\n",
       "      <td>26.0</td>\n",
       "      <td>0</td>\n",
       "      <td>0</td>\n",
       "      <td>STON/O2. 3101282</td>\n",
       "      <td>7.9250</td>\n",
       "      <td>NaN</td>\n",
       "      <td>2</td>\n",
       "    </tr>\n",
       "    <tr>\n",
       "      <th>3</th>\n",
       "      <td>4</td>\n",
       "      <td>1</td>\n",
       "      <td>Futrelle, Mrs. Jacques Heath (Lily May Peel)</td>\n",
       "      <td>0</td>\n",
       "      <td>35.0</td>\n",
       "      <td>1</td>\n",
       "      <td>0</td>\n",
       "      <td>113803</td>\n",
       "      <td>53.1000</td>\n",
       "      <td>C123</td>\n",
       "      <td>2</td>\n",
       "    </tr>\n",
       "    <tr>\n",
       "      <th>4</th>\n",
       "      <td>5</td>\n",
       "      <td>3</td>\n",
       "      <td>Allen, Mr. William Henry</td>\n",
       "      <td>1</td>\n",
       "      <td>35.0</td>\n",
       "      <td>0</td>\n",
       "      <td>0</td>\n",
       "      <td>373450</td>\n",
       "      <td>8.0500</td>\n",
       "      <td>NaN</td>\n",
       "      <td>2</td>\n",
       "    </tr>\n",
       "    <tr>\n",
       "      <th>5</th>\n",
       "      <td>6</td>\n",
       "      <td>3</td>\n",
       "      <td>Moran, Mr. James</td>\n",
       "      <td>1</td>\n",
       "      <td>28.0</td>\n",
       "      <td>0</td>\n",
       "      <td>0</td>\n",
       "      <td>330877</td>\n",
       "      <td>8.4583</td>\n",
       "      <td>NaN</td>\n",
       "      <td>1</td>\n",
       "    </tr>\n",
       "    <tr>\n",
       "      <th>6</th>\n",
       "      <td>7</td>\n",
       "      <td>1</td>\n",
       "      <td>McCarthy, Mr. Timothy J</td>\n",
       "      <td>1</td>\n",
       "      <td>54.0</td>\n",
       "      <td>0</td>\n",
       "      <td>0</td>\n",
       "      <td>17463</td>\n",
       "      <td>51.8625</td>\n",
       "      <td>E46</td>\n",
       "      <td>2</td>\n",
       "    </tr>\n",
       "  </tbody>\n",
       "</table>\n",
       "</div>"
      ],
      "text/plain": [
       "   PassengerId  Pclass                                               Name  \\\n",
       "0            1       3                            Braund, Mr. Owen Harris   \n",
       "1            2       1  Cumings, Mrs. John Bradley (Florence Briggs Th...   \n",
       "2            3       3                             Heikkinen, Miss. Laina   \n",
       "3            4       1       Futrelle, Mrs. Jacques Heath (Lily May Peel)   \n",
       "4            5       3                           Allen, Mr. William Henry   \n",
       "5            6       3                                   Moran, Mr. James   \n",
       "6            7       1                            McCarthy, Mr. Timothy J   \n",
       "\n",
       "   Sex   Age  SibSp  Parch            Ticket     Fare Cabin  Embarked  \n",
       "0    1  22.0      1      0         A/5 21171   7.2500   NaN         2  \n",
       "1    0  38.0      1      0          PC 17599  71.2833   C85         0  \n",
       "2    0  26.0      0      0  STON/O2. 3101282   7.9250   NaN         2  \n",
       "3    0  35.0      1      0            113803  53.1000  C123         2  \n",
       "4    1  35.0      0      0            373450   8.0500   NaN         2  \n",
       "5    1  28.0      0      0            330877   8.4583   NaN         1  \n",
       "6    1  54.0      0      0             17463  51.8625   E46         2  "
      ]
     },
     "execution_count": 12,
     "metadata": {},
     "output_type": "execute_result"
    }
   ],
   "source": [
    "#тут ваш код c оцифровкой \n",
    "encoders = {\"Embarked\": preprocessing.LabelEncoder()}\n",
    "X[\"Embarked\"] = encoders[\"Embarked\"].fit_transform(X[\"Embarked\"])\n",
    "print(encoders[\"Embarked\"].classes_)\n",
    "X.head(7)\n"
   ]
  },
  {
   "cell_type": "markdown",
   "metadata": {},
   "source": [
    "Посмотрим на оставшиеся признаки"
   ]
  },
  {
   "cell_type": "code",
   "execution_count": 13,
   "metadata": {},
   "outputs": [
    {
     "name": "stdout",
     "output_type": "stream",
     "text": [
      "The number of unique items:  {'PassengerId': 891, 'Pclass': 3, 'Name': 891, 'Sex': 2, 'Age': 88, 'SibSp': 7, 'Parch': 7, 'Ticket': 681, 'Fare': 248, 'Cabin': 148, 'Embarked': 3}\n"
     ]
    }
   ],
   "source": [
    "unique_val = {}\n",
    "for column in X:\n",
    "    unique_val[column] = X[column].unique().shape[0]\n",
    "print(\"The number of unique items: \", unique_val)"
   ]
  },
  {
   "cell_type": "code",
   "execution_count": 14,
   "metadata": {},
   "outputs": [
    {
     "name": "stdout",
     "output_type": "stream",
     "text": [
      "<class 'pandas.core.frame.DataFrame'>\n",
      "RangeIndex: 891 entries, 0 to 890\n",
      "Data columns (total 11 columns):\n",
      "PassengerId    891 non-null int64\n",
      "Pclass         891 non-null int64\n",
      "Name           891 non-null object\n",
      "Sex            891 non-null int64\n",
      "Age            891 non-null float64\n",
      "SibSp          891 non-null int64\n",
      "Parch          891 non-null int64\n",
      "Ticket         891 non-null object\n",
      "Fare           891 non-null float64\n",
      "Cabin          204 non-null object\n",
      "Embarked       891 non-null int64\n",
      "dtypes: float64(2), int64(6), object(3)\n",
      "memory usage: 76.6+ KB\n"
     ]
    }
   ],
   "source": [
    "X.info()"
   ]
  },
  {
   "cell_type": "markdown",
   "metadata": {},
   "source": [
    "- Удалим из тренировочного набора имена, они индивидуальны для каждого пассажира и при прямой оцифровке будут дублировать PassengerId\n",
    "- Оцифруем фичу Cabin. Несмотря на ее отсутствие у более чем трех четвертей, она группирует некоторых людей (уникальных значений 147, а заполнено 204).\n",
    "- По той же причине оцифруем фичу Ticket"
   ]
  },
  {
   "cell_type": "code",
   "execution_count": 15,
   "metadata": {
    "scrolled": true
   },
   "outputs": [],
   "source": [
    "X = X.drop([\"Name\"], axis=1)"
   ]
  },
  {
   "cell_type": "code",
   "execution_count": 16,
   "metadata": {},
   "outputs": [],
   "source": [
    "encoders[\"Ticket\"] = preprocessing.LabelEncoder()\n",
    "X[\"Ticket\"] = encoders[\"Ticket\"].fit_transform(X[\"Ticket\"])\n",
    "encoders[\"Cabin\"] = preprocessing.LabelEncoder()\n",
    "X[\"Cabin\"] = encoders[\"Cabin\"].fit_transform(X[\"Cabin\"].fillna(\"cabin info is absent\"))"
   ]
  },
  {
   "cell_type": "code",
   "execution_count": 17,
   "metadata": {},
   "outputs": [
    {
     "name": "stdout",
     "output_type": "stream",
     "text": [
      "Embarked ['C' 'Q' 'S']\n",
      "Ticket ['110152' '110413' '110465' '110564' '110813' '111240' '111320' '111361'\n",
      " '111369' '111426']\n",
      "Cabin ['A10' 'A14' 'A16' 'A19' 'A20' 'A23' 'A24' 'A26' 'A31' 'A32']\n"
     ]
    }
   ],
   "source": [
    "for feature in encoders:\n",
    "    print(feature, encoders[feature].classes_[:10])"
   ]
  },
  {
   "cell_type": "code",
   "execution_count": 18,
   "metadata": {},
   "outputs": [
    {
     "data": {
      "text/html": [
       "<div>\n",
       "<style scoped>\n",
       "    .dataframe tbody tr th:only-of-type {\n",
       "        vertical-align: middle;\n",
       "    }\n",
       "\n",
       "    .dataframe tbody tr th {\n",
       "        vertical-align: top;\n",
       "    }\n",
       "\n",
       "    .dataframe thead th {\n",
       "        text-align: right;\n",
       "    }\n",
       "</style>\n",
       "<table border=\"1\" class=\"dataframe\">\n",
       "  <thead>\n",
       "    <tr style=\"text-align: right;\">\n",
       "      <th></th>\n",
       "      <th>PassengerId</th>\n",
       "      <th>Pclass</th>\n",
       "      <th>Sex</th>\n",
       "      <th>Age</th>\n",
       "      <th>SibSp</th>\n",
       "      <th>Parch</th>\n",
       "      <th>Ticket</th>\n",
       "      <th>Fare</th>\n",
       "      <th>Cabin</th>\n",
       "      <th>Embarked</th>\n",
       "    </tr>\n",
       "  </thead>\n",
       "  <tbody>\n",
       "    <tr>\n",
       "      <th>0</th>\n",
       "      <td>1</td>\n",
       "      <td>3</td>\n",
       "      <td>1</td>\n",
       "      <td>22.0</td>\n",
       "      <td>1</td>\n",
       "      <td>0</td>\n",
       "      <td>523</td>\n",
       "      <td>7.2500</td>\n",
       "      <td>147</td>\n",
       "      <td>2</td>\n",
       "    </tr>\n",
       "    <tr>\n",
       "      <th>1</th>\n",
       "      <td>2</td>\n",
       "      <td>1</td>\n",
       "      <td>0</td>\n",
       "      <td>38.0</td>\n",
       "      <td>1</td>\n",
       "      <td>0</td>\n",
       "      <td>596</td>\n",
       "      <td>71.2833</td>\n",
       "      <td>81</td>\n",
       "      <td>0</td>\n",
       "    </tr>\n",
       "    <tr>\n",
       "      <th>2</th>\n",
       "      <td>3</td>\n",
       "      <td>3</td>\n",
       "      <td>0</td>\n",
       "      <td>26.0</td>\n",
       "      <td>0</td>\n",
       "      <td>0</td>\n",
       "      <td>669</td>\n",
       "      <td>7.9250</td>\n",
       "      <td>147</td>\n",
       "      <td>2</td>\n",
       "    </tr>\n",
       "    <tr>\n",
       "      <th>3</th>\n",
       "      <td>4</td>\n",
       "      <td>1</td>\n",
       "      <td>0</td>\n",
       "      <td>35.0</td>\n",
       "      <td>1</td>\n",
       "      <td>0</td>\n",
       "      <td>49</td>\n",
       "      <td>53.1000</td>\n",
       "      <td>55</td>\n",
       "      <td>2</td>\n",
       "    </tr>\n",
       "    <tr>\n",
       "      <th>4</th>\n",
       "      <td>5</td>\n",
       "      <td>3</td>\n",
       "      <td>1</td>\n",
       "      <td>35.0</td>\n",
       "      <td>0</td>\n",
       "      <td>0</td>\n",
       "      <td>472</td>\n",
       "      <td>8.0500</td>\n",
       "      <td>147</td>\n",
       "      <td>2</td>\n",
       "    </tr>\n",
       "    <tr>\n",
       "      <th>5</th>\n",
       "      <td>6</td>\n",
       "      <td>3</td>\n",
       "      <td>1</td>\n",
       "      <td>28.0</td>\n",
       "      <td>0</td>\n",
       "      <td>0</td>\n",
       "      <td>275</td>\n",
       "      <td>8.4583</td>\n",
       "      <td>147</td>\n",
       "      <td>1</td>\n",
       "    </tr>\n",
       "    <tr>\n",
       "      <th>6</th>\n",
       "      <td>7</td>\n",
       "      <td>1</td>\n",
       "      <td>1</td>\n",
       "      <td>54.0</td>\n",
       "      <td>0</td>\n",
       "      <td>0</td>\n",
       "      <td>85</td>\n",
       "      <td>51.8625</td>\n",
       "      <td>129</td>\n",
       "      <td>2</td>\n",
       "    </tr>\n",
       "  </tbody>\n",
       "</table>\n",
       "</div>"
      ],
      "text/plain": [
       "   PassengerId  Pclass  Sex   Age  SibSp  Parch  Ticket     Fare  Cabin  \\\n",
       "0            1       3    1  22.0      1      0     523   7.2500    147   \n",
       "1            2       1    0  38.0      1      0     596  71.2833     81   \n",
       "2            3       3    0  26.0      0      0     669   7.9250    147   \n",
       "3            4       1    0  35.0      1      0      49  53.1000     55   \n",
       "4            5       3    1  35.0      0      0     472   8.0500    147   \n",
       "5            6       3    1  28.0      0      0     275   8.4583    147   \n",
       "6            7       1    1  54.0      0      0      85  51.8625    129   \n",
       "\n",
       "   Embarked  \n",
       "0         2  \n",
       "1         0  \n",
       "2         2  \n",
       "3         2  \n",
       "4         2  \n",
       "5         1  \n",
       "6         2  "
      ]
     },
     "execution_count": 18,
     "metadata": {},
     "output_type": "execute_result"
    }
   ],
   "source": [
    "X.head(7)"
   ]
  },
  {
   "cell_type": "markdown",
   "metadata": {},
   "source": [
    "Каким образом можно отобрать фичи, которые будут влиять на наш скор? Тут нам помогут ваш жизненный опыт и ` Recursive Feature Elimination` из библиотеки `Sklearn` "
   ]
  },
  {
   "cell_type": "code",
   "execution_count": 19,
   "metadata": {},
   "outputs": [
    {
     "name": "stdout",
     "output_type": "stream",
     "text": [
      "[4 1 1 1 1 1 3 2 1 1]\n"
     ]
    }
   ],
   "source": [
    "from sklearn.feature_selection import RFE\n",
    "from sklearn.linear_model import LogisticRegression, LinearRegression, Lasso, Ridge\n",
    "model = LinearRegression()#тут можно подбирать параметры для повышения скора)\n",
    "rfe_fit = RFE(model, 7).fit(X, y)\n",
    "print(rfe_fit.ranking_)\n",
    "#тут ваш код"
   ]
  },
  {
   "cell_type": "markdown",
   "metadata": {},
   "source": [
    "Проверьте, похожи ли отобранные вами фичи на те, что представленны ниже?"
   ]
  },
  {
   "cell_type": "code",
   "execution_count": 20,
   "metadata": {},
   "outputs": [
    {
     "name": "stdout",
     "output_type": "stream",
     "text": [
      "['Pclass', 'Sex', 'Age', 'SibSp', 'Parch', 'Fare', 'Embarked']\n",
      "['Pclass', 'Sex', 'Age', 'SibSp', 'Parch', 'Cabin', 'Embarked']\n"
     ]
    }
   ],
   "source": [
    "features = [\"Pclass\", \"Sex\", \"Age\", \"SibSp\", \"Parch\", \"Fare\", \"Embarked\"]\n",
    "print(features)\n",
    "print(list(X.keys()[rfe_fit.support_]))"
   ]
  },
  {
   "cell_type": "markdown",
   "metadata": {},
   "source": [
    "Выполним предсказания:"
   ]
  },
  {
   "cell_type": "code",
   "execution_count": 21,
   "metadata": {},
   "outputs": [],
   "source": [
    "kfold = KFold(X.shape[0], n_folds=3, random_state=0)"
   ]
  },
  {
   "cell_type": "code",
   "execution_count": 22,
   "metadata": {},
   "outputs": [],
   "source": [
    "predicts = []\n",
    "for train_index, test_index in kfold:\n",
    "    #тут ваш код\n",
    "    model.fit(X.iloc[train_index], y[train_index])\n",
    "    predicts.append(model.predict(X.iloc[test_index]))\n",
    "predicts = np.concatenate(predicts)"
   ]
  },
  {
   "cell_type": "code",
   "execution_count": 23,
   "metadata": {},
   "outputs": [
    {
     "name": "stdout",
     "output_type": "stream",
     "text": [
      "[ 1.13759079e-01  1.01557110e+00  6.08575842e-01  9.63545033e-01\n",
      "  7.93640477e-02  1.70342379e-01  3.77434428e-01  1.29370917e-01\n",
      "  5.48814717e-01  9.41788009e-01  6.62440799e-01  8.71079855e-01\n",
      "  1.54591585e-01 -1.31267413e-01  6.80324001e-01  6.61531273e-01\n",
      "  1.43191723e-01  3.11337399e-01  5.67155095e-01  7.09740998e-01\n",
      "  2.78319783e-01  2.92912350e-01  7.26897998e-01  5.51639288e-01\n",
      "  5.87292574e-01  3.63490356e-01  2.19664527e-01  4.70621068e-01\n",
      "  6.58750890e-01  1.18820686e-01  5.10863951e-01  1.09885421e+00\n",
      "  6.58338323e-01  9.68988494e-02  5.54658853e-01  4.02379070e-01\n",
      "  2.18304619e-01  1.49021828e-01  6.02541003e-01  7.51242262e-01\n",
      "  5.09309074e-01  7.79764309e-01  2.10871824e-01  9.13128686e-01\n",
      "  7.04859423e-01  1.08243032e-01  1.31578650e-01  6.65827925e-01\n",
      "  1.59089955e-01  6.30342499e-01  8.01151813e-02  1.47993052e-01\n",
      "  9.50341308e-01  7.62785429e-01  4.20819298e-01  5.27145242e-01\n",
      "  8.19644016e-01  2.14210247e-01  8.07777619e-01 -1.67370193e-02\n",
      "  2.48582385e-01  9.95792631e-01  4.01173658e-01  8.63827687e-02\n",
      "  5.71577082e-01  1.54270004e-01  7.79436154e-01  1.53823597e-01\n",
      "  4.75894200e-01  6.85434507e-02  2.71736902e-01  4.46623155e-01\n",
      "  3.41318645e-01  1.97331424e-01  1.18301482e-01  1.35312599e-01\n",
      "  1.16874803e-01  1.12301678e-01  3.85735665e-01  5.94374878e-01\n",
      "  1.50135889e-01  1.13517487e-01  6.56298506e-01  5.03756360e-01\n",
      "  8.35963844e-01  4.92633609e-01  4.00258395e-02  1.04909016e-01\n",
      "  9.36873098e-01  1.39351676e-01  1.13252276e-01  1.58320576e-01\n",
      "  3.65541353e-01  2.31500751e-02 -4.82337512e-02  1.11375461e-01\n",
      "  3.96580859e-01  5.90499691e-01  7.36123051e-01  2.48103998e-01\n",
      "  6.04561339e-01  1.15463803e-01  5.15191081e-01  8.39677461e-02\n",
      "  1.04549329e-02  1.15545817e-01  6.44041698e-01  1.19289399e-01\n",
      "  6.20625719e-02  6.20325208e-01  4.40035749e-01  7.45735541e-01\n",
      "  1.49561714e-01  6.10622199e-01  7.64513063e-01  1.39436613e-01\n",
      " -6.33286115e-02  2.75835015e-01  6.48856617e-01  5.53773365e-01\n",
      "  2.76519922e-01  1.07636057e-01  3.50268984e-01  7.81447041e-01\n",
      "  3.42463959e-01  2.67652224e-01  1.57199174e-01  1.27910170e-01\n",
      "  6.45907061e-01  2.71416779e-02  1.81133450e-01  1.44682822e-01\n",
      "  4.68581468e-01  7.63961733e-01  3.05923060e-01  4.07535483e-01\n",
      "  9.78794429e-01  4.56880436e-01  1.70935173e-01  6.38276993e-01\n",
      "  6.37598119e-01  6.35820108e-01  5.83026907e-01  2.03951673e-01\n",
      "  3.58295871e-01  2.76945245e-01  1.16819350e-01  5.66040951e-01\n",
      "  2.00052771e-01  2.32428878e-01  1.67078849e-01  1.02573078e+00\n",
      " -3.59726133e-02 -2.49035402e-02  1.04629147e-01  4.22025877e-01\n",
      "  7.09892591e-01  9.11250280e-02  1.16939752e-01 -1.98414709e-01\n",
      " -6.63426619e-03  7.16929327e-01  1.24433113e-01  1.73663158e-01\n",
      "  1.05955186e-01  1.44289492e-01  9.66415044e-01  3.53040013e-01\n",
      "  4.73428204e-01  1.34632104e-01  3.72165920e-01  1.25476432e-01\n",
      "  6.78884218e-01  1.36971966e-01  4.89272193e-01  9.69510660e-02\n",
      " -1.64255162e-02  9.70478948e-01  2.92643173e-01  6.00578772e-02\n",
      "  2.90534597e-01  3.79392190e-01  2.46248864e-02  3.56319588e-01\n",
      "  6.65579049e-01  5.49189275e-01  6.15031864e-01  4.06079824e-01\n",
      "  2.96925227e-02  6.87253398e-02  7.73428753e-01  3.47017374e-01\n",
      "  6.14919019e-01  3.74754722e-01  1.01506000e+00  9.65582716e-01\n",
      "  1.54323263e-01 -7.24388897e-04  6.43820630e-01  8.13156754e-01\n",
      "  1.13301440e-01 -2.00395446e-01  8.37538905e-02  1.20346955e-01\n",
      "  1.56135545e-01  7.05039728e-01  6.47252670e-02  2.22841749e-01\n",
      "  7.06400247e-01  5.75929377e-01  1.20068960e-01  7.41402963e-01\n",
      "  1.34912592e-01  2.91224549e-01  1.22554849e-01  1.05084694e+00\n",
      "  5.93242136e-01  2.01463510e-01  1.08527627e+00  2.70398286e-01\n",
      "  1.61030597e-01  3.08697989e-01  1.45739552e-04  1.09168922e-01\n",
      "  4.43040766e-01  1.31355669e-01  3.27568684e-01  1.42047924e-01\n",
      "  3.54418998e-01  4.71014657e-01  9.35217534e-01  1.05609566e-01\n",
      "  1.40921467e-01  5.32970240e-01  3.05740311e-01  5.86783904e-01\n",
      "  1.87759948e-01  8.14833345e-01  3.44054081e-01  2.55929921e-01\n",
      "  6.69415197e-01  6.13018019e-01  2.74709638e-01  1.28317218e-01\n",
      "  1.97663516e-01  4.29752653e-01  6.15536698e-01  7.43414860e-01\n",
      "  4.00525873e-01  1.37207630e-01  1.05925381e-01  5.31129534e-01\n",
      "  3.36939026e-01  6.17991452e-02  4.62117721e-01  6.27667930e-01\n",
      "  1.06511815e+00  1.02407674e+00  1.13045147e+00  6.46074631e-01\n",
      "  1.50145043e-01  5.21155046e-02  3.18719417e-01  4.58552104e-01\n",
      "  6.40050736e-01  2.42155081e-01  2.31041008e-02  9.29911575e-02\n",
      "  8.31057722e-01  9.67712440e-01  4.90273648e-01  1.12948985e-01\n",
      "  6.88929275e-01  5.15466047e-01  6.40081779e-01  7.89103807e-01\n",
      "  5.10023001e-01  2.96615449e-01  1.04822124e-01  4.91101243e-01\n",
      " -3.58749127e-02  1.07777046e-01  1.71712206e-01  1.47091163e-01\n",
      "  5.41392703e-01  1.74082502e-01  9.87628858e-02  1.38217579e-01\n",
      "  2.26376229e-01  6.70629328e-01  9.99306957e-01  1.14408575e+00\n",
      "  3.52401255e-01  6.16805553e-01  1.26670059e-01  5.60489704e-01\n",
      "  2.29068482e-01  1.19848617e+00  4.88826750e-01  9.73621360e-01\n",
      "  6.01212519e-01  3.91388026e-02  1.07324563e-01  8.42541201e-01\n",
      "  6.64636697e-02  7.08614696e-01  1.06654593e+00  1.00572182e+00\n",
      "  1.95515509e-01  8.98956355e-01  1.12221045e+00  1.08686153e+00\n",
      "  7.40793295e-01  1.01823916e-01  3.33965931e-02  6.21456701e-01\n",
      "  7.68435500e-01  9.19403725e-02  9.56436590e-01  9.64254549e-01\n",
      "  1.05971796e-01  1.12561334e-01  8.06334747e-01  7.71830973e-01\n",
      " -2.95535256e-01  9.56460376e-01 -9.62034147e-02  7.42799916e-01\n",
      "  5.21476917e-01  1.19033618e+00  5.36123028e-01  3.88063824e-01\n",
      "  3.75473964e-01  1.13018269e-01  8.40922895e-01  1.04768394e-01\n",
      "  4.73778503e-01  1.01405123e+00 -4.11230747e-02  3.36313969e-01\n",
      "  4.18575876e-01  1.03740683e+00  2.79895726e-01  3.02065669e-01\n",
      "  2.38806740e-01  8.06784745e-01  6.73997964e-01  5.33114229e-01\n",
      "  1.70656281e-01  3.98162208e-02  1.06216491e-01  5.04285017e-01\n",
      "  2.38818292e-01  8.32432840e-02  2.19425683e-01  1.19836316e-01\n",
      "  1.00772374e+00  7.17987244e-01  6.58611078e-01  6.57142978e-01\n",
      " -3.83696342e-02  1.91056906e-01  5.93322600e-01 -8.27988034e-03\n",
      "  7.61157845e-02  4.84999939e-02  8.24413211e-01  7.18121127e-01\n",
      "  7.07698288e-01  1.01279497e+00  5.10687422e-01  1.52266562e-01\n",
      "  1.87817889e-01  5.00239940e-01  6.17065522e-01  8.67867672e-01\n",
      "  5.97825773e-01  6.96772644e-01  2.69067196e-01  1.75106142e-01\n",
      "  9.44116959e-01  8.79217513e-01  6.31444182e-03  8.63472480e-01\n",
      "  1.04540551e-01  2.83702650e-01  7.06407220e-03  7.09363769e-01\n",
      "  1.20403970e-01  8.03512827e-01  4.61729554e-01  1.43134677e-01\n",
      "  3.93420997e-02  9.99585852e-01  5.55879391e-01  1.34359325e-01\n",
      "  5.71237713e-01  1.56168768e-01  3.13854514e-01  7.81243940e-01\n",
      " -3.92083077e-02  1.37159373e-01  5.71646665e-01 -9.32900812e-03\n",
      "  6.80215087e-01  1.81947122e-01 -3.45414551e-02  3.71797242e-01\n",
      "  1.78855144e-01  4.33676050e-01  1.05528482e-01  1.09886363e-01\n",
      "  9.74517754e-01  2.74809147e-01 -7.01158655e-02  6.20256077e-01\n",
      "  6.79778848e-01  8.19769568e-01  2.50620907e-01  7.28593799e-01\n",
      "  1.68619660e-01  1.45144790e-01  1.25373005e-01  5.58572482e-01\n",
      "  1.01168621e-01  6.72978531e-02  7.54414232e-01  8.44358526e-01\n",
      "  1.22882750e-01  3.15952066e-02  4.96272851e-01  5.34856384e-01\n",
      "  5.33400936e-01  1.06224907e-01  2.75989372e-01  1.10334868e+00\n",
      "  4.78797058e-01  6.62153038e-01  3.52657846e-01  1.63135026e-01\n",
      "  5.17266145e-01  1.74661144e-01  8.67952760e-02  7.87428643e-01\n",
      "  7.34175090e-02  6.48292203e-01  8.69942855e-01  3.99009207e-01\n",
      "  7.68716266e-01  3.45921900e-01  7.28447223e-02  3.60168130e-02\n",
      "  5.59963372e-01  4.03171936e-01  6.62706579e-02  1.65239300e-01\n",
      "  2.01501334e-01  9.30156661e-01  5.29090087e-01  1.15306471e-01\n",
      "  3.13263185e-01  5.10580509e-02  3.41952548e-01  1.57756357e-01\n",
      "  6.35819560e-02 -2.74774107e-02  2.74827424e-01  2.54631466e-01\n",
      "  1.26791275e-01  7.96663275e-01  1.28253871e-01  6.59098037e-02\n",
      "  5.89548722e-01  8.00536669e-01  6.08856651e-01  5.61830441e-01\n",
      "  1.76587306e-01  6.30765624e-02  1.33910836e-01  7.95220916e-01\n",
      " -4.54960125e-02  2.74587856e-01 -7.90832884e-02  3.44006756e-01\n",
      "  6.01932100e-01  4.33702260e-01  9.20916831e-01  3.85521467e-01\n",
      "  5.58264084e-02  1.31260530e-01  3.57855216e-02  8.20122097e-02\n",
      "  3.17211324e-01  1.07821579e-01  1.14750301e-01  2.27054808e-01\n",
      "  7.61322906e-01  6.34319798e-02  1.04735205e+00  1.23204993e-01\n",
      "  2.04464603e-01  6.66879552e-01  6.59183714e-01  5.14694542e-01\n",
      "  1.14169518e+00  5.02241810e-01  7.29237276e-01  4.47040209e-01\n",
      "  7.50941126e-02  2.30017836e-01  1.06057845e-01  3.69213996e-02\n",
      "  2.71725237e-01  6.77993314e-01  1.34214753e-01  2.44943867e-01\n",
      "  6.40360011e-01  1.28939540e-01  6.99406048e-01  7.58434472e-02\n",
      "  1.04105791e+00  1.39382095e-01  2.21686289e-01  1.00632933e+00\n",
      "  2.10921925e-01  3.85377487e-02  5.04394701e-01  5.08687643e-01\n",
      "  6.19138517e-02  1.86812126e-01  8.95464348e-01  2.19735014e-01\n",
      "  2.26711205e-01  7.05158520e-01  6.16232479e-01  8.04690439e-01\n",
      "  4.08297246e-01  9.19752808e-01  9.67133789e-02  1.11056886e+00\n",
      "  8.23804277e-01  5.43230203e-01  5.30082422e-01  1.98633557e-01\n",
      "  2.84054841e-01  8.97545005e-02  7.81071631e-01  2.34383746e-01\n",
      "  1.14304361e-02  2.75623840e-01  6.65098715e-01  3.00218863e-01\n",
      "  1.60437803e-01  2.61630838e-01  6.49726379e-01  2.13259510e-01\n",
      "  9.24084134e-01  5.39240652e-01  8.68680394e-01  5.26480919e-01\n",
      "  1.14607079e-01  2.13075021e-02  2.94099584e-01  3.62051095e-02\n",
      "  5.34648125e-01  1.25936641e-02  1.68419959e-01  5.58937898e-01\n",
      "  2.13384509e-01  6.75043461e-02 -5.94607953e-02  7.54629201e-01\n",
      "  2.71585687e-01  7.08013725e-01  1.47158721e-01  1.57361149e-01\n",
      "  7.41422128e-01  8.45327601e-01  6.68071953e-01  7.36134331e-03\n",
      "  7.59160927e-01  9.81128312e-01  1.03640066e-01  5.52919904e-01\n",
      "  1.94085157e-01  1.04369657e+00  1.64104886e-01  3.50309339e-01\n",
      "  2.15649937e-01  6.94988467e-02 -1.18093372e-02  7.74503793e-01\n",
      " -6.02438971e-02  5.99983893e-01  1.69663759e-01  4.95639633e-02\n",
      "  8.18657168e-01  6.53199514e-03  1.92887933e-01  3.05932042e-01\n",
      "  7.61657529e-01  1.32718899e-01  4.48866583e-01  4.24080439e-02\n",
      "  4.65893569e-01  4.51717188e-02  1.20492745e-01  4.57072458e-01\n",
      "  8.20601487e-01  8.47984034e-01  5.58727269e-01  1.12531876e-01\n",
      "  6.34759194e-01  1.49144754e-01  9.08657903e-02  7.97068697e-01\n",
      "  6.20172794e-02  6.14854872e-01  8.68455203e-01  3.02261555e-01\n",
      "  1.57417845e-01  3.33936825e-01  1.94894825e-01  1.68263546e-01\n",
      "  1.59148279e-01  2.47894027e-01  1.72338189e-01  1.00500281e+00\n",
      "  1.44298341e-01  1.63776985e-01  1.70184419e-01  1.35144196e-02\n",
      "  4.82956329e-01  4.63511325e-01  6.37869447e-01  8.27740642e-01\n",
      "  9.05798189e-02  2.09744666e-01  5.94727543e-01  8.35917446e-02\n",
      "  1.73923538e-01  1.00491488e+00  6.75584191e-01  1.44586332e-01\n",
      "  7.83047061e-01  3.04734042e-01  1.82311260e-01  3.56195095e-01\n",
      "  1.15990574e-01  6.73124837e-01  1.35206929e-01  8.80806902e-01\n",
      "  1.61406198e-01  6.92349809e-01  7.33630957e-01  1.90665467e-01\n",
      "  1.35416039e-01  6.17222317e-01  3.20859413e-01  2.97493179e-01\n",
      "  1.89649321e-01  1.34348931e-01  3.22159501e-01  9.42101467e-02\n",
      "  1.15736131e-01  1.48711906e-01  3.19611657e-01  1.44563044e-01\n",
      "  4.41529697e-02  9.36269876e-01  7.11095472e-01  3.59340653e-01\n",
      "  4.89696237e-02  2.86455194e-01  3.06157078e-01  1.87588155e-01\n",
      "  1.60784290e-01  7.06433249e-01  5.20504024e-01  3.07231663e-01\n",
      "  6.93593532e-01  4.58905455e-01  1.69240077e-01 -1.54800774e-02\n",
      "  7.90753751e-02  2.82789611e-01  5.06859671e-02  1.84295469e-01\n",
      "  1.87910323e-01  1.00692573e+00  3.96345123e-01  8.36285689e-01\n",
      "  1.47527440e-01  2.13943647e-01  2.87869896e-01  1.75119989e-01\n",
      "  4.83677096e-02  6.84291265e-01  3.33861297e-01  6.55989746e-02\n",
      "  9.56972674e-01  3.82418801e-01  7.75968297e-01  1.71865703e-01\n",
      "  1.06023233e-01  2.40778707e-01  7.43115361e-01  3.45468860e-01\n",
      "  9.87804956e-01  1.57532353e-01  1.01116005e+00  4.65278190e-01\n",
      "  3.05990434e-01  1.22711991e-01  1.75777686e-01  1.88706681e-01\n",
      "  8.92511997e-01  8.27636789e-01  1.55604748e-01  1.16330796e-01\n",
      "  9.43482269e-01  1.54355690e-01  2.79479654e-01  1.87182874e-01\n",
      "  4.18314324e-01  1.89627583e-01  6.89438624e-01  6.83674514e-01\n",
      "  2.79218352e-01  6.18988839e-01  9.34558146e-01  2.86678763e-01\n",
      "  3.09713902e-01  3.26342775e-01  3.34633692e-01  1.25916612e-01\n",
      "  4.91044959e-01  3.16504406e-01  1.41772636e-01  1.40699966e-01\n",
      "  4.59279458e-01  3.65254428e-01  8.97405515e-01  1.11035476e-01\n",
      "  1.02532509e-01  1.44485867e-01  1.47533403e-01  8.21181779e-01\n",
      "  4.65136275e-01  1.54942460e-01  9.11726217e-01  2.49747700e-01\n",
      "  1.18421407e-01  1.69118066e-01  6.77750477e-01  4.10461547e-01\n",
      "  1.38724113e-01  3.53988414e-01  1.05356857e-01  9.55621953e-01\n",
      "  1.36128630e-01  5.17630545e-02  2.45359919e-01  8.89036046e-01\n",
      "  2.08854508e-01  8.14015070e-01  5.09004439e-01  6.73907018e-01\n",
      "  1.13659265e-01  1.10010084e-01  1.67299312e-01  3.29992695e-02\n",
      "  6.45868799e-01  2.02712272e-01  6.47773333e-01  1.98655840e-01\n",
      "  1.58046331e-01  7.85552490e-01  1.60335234e-01  8.63827191e-01\n",
      "  8.08867118e-01  1.00275225e+00  4.60403524e-01  7.61425921e-02\n",
      "  1.38495892e-01  1.51269029e-01  7.32423351e-01  9.75341229e-02\n",
      "  2.30349735e-01  3.66190251e-01  1.90049384e-01  3.70623685e-01\n",
      "  3.15448990e-01  4.69064535e-01  1.61016059e-01  2.45334166e-01\n",
      "  8.78505002e-01  6.53073653e-01  1.93195807e-01  6.20199859e-01\n",
      "  2.76685650e-01  7.46064318e-01  4.97881567e-01  3.53301815e-01\n",
      "  1.52107505e-01  1.32055673e-01  4.21411742e-01  7.26593363e-01\n",
      "  2.51324842e-01  9.17976850e-01  1.57489852e-01  7.08601306e-02\n",
      "  2.68313803e-01  6.23396918e-01  1.27108866e-01  4.80018024e-01\n",
      "  6.75204253e-01  2.60756604e-01  5.24875622e-02  1.17178459e-01\n",
      "  8.11293195e-01  1.57928651e-01  4.15320287e-01  6.68841581e-01\n",
      "  1.22799766e-01  1.63498479e-01  1.55570468e-01  4.61949968e-01\n",
      "  1.63937433e-01  8.05559041e-01  7.60329217e-01  4.07779141e-01\n",
      "  2.06403612e-01  1.74609587e-01  2.18903020e-01  8.86355530e-01\n",
      "  1.90819843e-01  1.37407703e-01  1.35013845e-01  5.15924313e-01\n",
      "  1.67938827e-01  3.41141123e-01  1.02930134e+00  1.72228008e-01\n",
      "  2.12878968e-01  5.76501274e-02 -2.07785735e-01  1.57825530e-01\n",
      "  3.07666302e-01  9.85474630e-01  1.09780256e-01 -9.36833545e-02\n",
      "  7.92599595e-01  1.01627287e+00  7.10908183e-01  7.18275625e-01\n",
      "  7.99402695e-01  3.48639915e-01  7.54252827e-01  2.09609990e-01\n",
      " -6.65227007e-03  3.04899759e-01  8.87710204e-01  3.19710595e-01\n",
      "  3.37041894e-01  7.67378764e-01  8.15652391e-01  4.11942071e-01\n",
      "  1.52206684e-01  2.36590987e-01  1.57464579e-01  8.49026337e-01\n",
      "  4.18066947e-01  5.20159986e-02  8.12655795e-01  8.04913504e-01\n",
      "  1.80431718e-01  1.97309172e-01  1.49118620e-01  8.83384898e-01\n",
      "  8.56740323e-01  1.20361675e-01  6.96164448e-01  2.83909083e-01\n",
      "  1.43969563e-01  6.29062105e-01  3.23839464e-01  1.05086921e+00\n",
      "  6.08920910e-01  5.33918903e-01  1.44569633e-01]\n"
     ]
    }
   ],
   "source": [
    "print(predicts)"
   ]
  },
  {
   "cell_type": "code",
   "execution_count": 24,
   "metadata": {},
   "outputs": [
    {
     "name": "stdout",
     "output_type": "stream",
     "text": [
      "Скор для линейной регрессии: 0.7833894500561167\n"
     ]
    }
   ],
   "source": [
    "predicts[predicts > 0.5], predicts[predicts < 0.5] = 1,0\n",
    "\n",
    "accuracy = np.count_nonzero(y == predicts)/y.count()\n",
    "print ('Скор для линейной регрессии:',accuracy)"
   ]
  },
  {
   "cell_type": "markdown",
   "metadata": {},
   "source": [
    "## Задание 2 (2 балла)\n",
    "Теперь попробуем проделать то же самое для **логистической регрессии**\n",
    "\n",
    "http://scikit-learn.org/stable/modules/generated/sklearn.linear_model.LogisticRegression.html"
   ]
  },
  {
   "cell_type": "code",
   "execution_count": 25,
   "metadata": {},
   "outputs": [],
   "source": [
    "model = LogisticRegression()#тут можно подбирать параметры для повышения скора)"
   ]
  },
  {
   "cell_type": "markdown",
   "metadata": {},
   "source": [
    "Вычислим оценку точности для всех кросс-валидационных фолдов: возвращаем массив баллов из 3-х фолдов"
   ]
  },
  {
   "cell_type": "code",
   "execution_count": 26,
   "metadata": {},
   "outputs": [
    {
     "name": "stdout",
     "output_type": "stream",
     "text": [
      "Скор для логистической регрессии: 0.7912457912457912\n"
     ]
    }
   ],
   "source": [
    "#тут ваш код\n",
    "scores = []\n",
    "for train_index, test_index in kfold:\n",
    "    #тут ваш код\n",
    "    model.fit(X.iloc[train_index], y[train_index])\n",
    "    scores.append(model.score(X.iloc[test_index], y.iloc[test_index]))\n",
    "\n",
    "print(\"Скор для логистической регрессии: \" + str(np.array(scores).mean()))"
   ]
  },
  {
   "cell_type": "markdown",
   "metadata": {},
   "source": [
    "###### Как бы вы объяснили прирост качества в логистической регрессии? \n",
    "Сможете побить наш бейзлайн? :)"
   ]
  },
  {
   "cell_type": "markdown",
   "metadata": {},
   "source": [
    "## Задание 3 (1.5 балла)\n",
    "Отправьте ваше решение в тестирующую систему и посмотрите, какое место вы займете"
   ]
  },
  {
   "cell_type": "markdown",
   "metadata": {},
   "source": [
    "рассмотрим `test.csv`"
   ]
  },
  {
   "cell_type": "code",
   "execution_count": null,
   "metadata": {},
   "outputs": [],
   "source": [
    "df_test = pandas.read_csv(\"test.csv\")\n",
    "print(df_test.describe())"
   ]
  },
  {
   "cell_type": "markdown",
   "metadata": {},
   "source": [
    "Надо вернуть оцифрованные данные к первоначальному виду:"
   ]
  },
  {
   "cell_type": "code",
   "execution_count": null,
   "metadata": {},
   "outputs": [],
   "source": [
    "#тут ваш код по возвращению оцифрованных параметров в первоначальный вид\n",
    "\n",
    "df_test[\"Fare\"] = df_test[\"Fare\"].fillna(df_test[\"Fare\"].median())\n",
    "\n",
    "model.fit(#тут ваш код)\n",
    "predicts = model.predict(#тут ваш код)\n",
    "\n",
    "submission = pandas.DataFrame({\n",
    "    \"PassengerId\": df_test[\"PassengerId\"],\n",
    "    \"Survived\": predicts\n",
    "})\n",
    "\n",
    "submission.to_csv(\"submission.csv\", index=False) #вот это отправляется в каггл"
   ]
  },
  {
   "cell_type": "markdown",
   "metadata": {},
   "source": [
    "Можете попробовать и дальше \"поиграться\" с параметрами, чтобы подняться в лидерборде. Например, попробовать подобрать параметры в регрессорах. \n",
    "Удачи!\n",
    "    Напоминаем, что справку по любой функции (в том числе и по регрессорам) можно получить, если с наведенным курсором на функцию нажать `Tab`+`Shift`"
   ]
  },
  {
   "cell_type": "code",
   "execution_count": null,
   "metadata": {},
   "outputs": [],
   "source": []
  }
 ],
 "metadata": {
  "anaconda-cloud": {},
  "kernelspec": {
   "display_name": "Python 3",
   "language": "python",
   "name": "python3"
  },
  "language_info": {
   "codemirror_mode": {
    "name": "ipython",
    "version": 3
   },
   "file_extension": ".py",
   "mimetype": "text/x-python",
   "name": "python",
   "nbconvert_exporter": "python",
   "pygments_lexer": "ipython3",
   "version": "3.6.4"
  }
 },
 "nbformat": 4,
 "nbformat_minor": 2
}
